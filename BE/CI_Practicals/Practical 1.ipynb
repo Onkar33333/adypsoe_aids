{
 "cells": [
  {
   "cell_type": "markdown",
   "id": "2c4f69cb",
   "metadata": {},
   "source": [
    "# Problem Statement - Implement Union, Intersection, Complement and Difference operations on fuzzy sets. Also create fuzzy relations by Cartesian product of any two fuzzy sets and perform max-min composition on any two fuzzy relations."
   ]
  },
  {
   "cell_type": "code",
   "execution_count": 1,
   "id": "9ad1a507",
   "metadata": {},
   "outputs": [],
   "source": [
    "import numpy as np"
   ]
  },
  {
   "cell_type": "code",
   "execution_count": 2,
   "id": "f0ce1ce2",
   "metadata": {},
   "outputs": [],
   "source": [
    "# Function to perform Union operation on fuzzy sets\n",
    "def fuzzy_union(A, B):\n",
    "    return np.maximum(A, B)"
   ]
  },
  {
   "cell_type": "code",
   "execution_count": 3,
   "id": "125b9586",
   "metadata": {},
   "outputs": [],
   "source": [
    "# Function to perform Intersection operation on fuzzy sets\n",
    "def fuzzy_intersection(A, B):\n",
    "    return np.minimum(A, B)"
   ]
  },
  {
   "cell_type": "code",
   "execution_count": 4,
   "id": "a8d390dd",
   "metadata": {},
   "outputs": [],
   "source": [
    "# Function to perform Complement operation on a fuzzy set\n",
    "def fuzzy_complement(A):\n",
    "    return 1 - A"
   ]
  },
  {
   "cell_type": "code",
   "execution_count": 5,
   "id": "16287e17",
   "metadata": {},
   "outputs": [],
   "source": [
    "# Function to perform Difference operation on fuzzy sets\n",
    "def fuzzy_difference(A, B):\n",
    "    return np.maximum(A, 1 - B)"
   ]
  },
  {
   "cell_type": "code",
   "execution_count": 6,
   "id": "353ca6b7",
   "metadata": {},
   "outputs": [],
   "source": [
    "# Function to create fuzzy relation by Cartesian product of two fuzzy sets\n",
    "def cartesian_product(A, B):\n",
    "    return np.outer(A, B)"
   ]
  },
  {
   "cell_type": "code",
   "execution_count": 7,
   "id": "a627b3b2",
   "metadata": {},
   "outputs": [],
   "source": [
    "# Function to perform Max-Min composition on two fuzzy relations\n",
    "def max_min_composition(R, S):\n",
    "    return np.max(np.minimum.outer(R, S), axis=1)"
   ]
  },
  {
   "cell_type": "code",
   "execution_count": 8,
   "id": "a6df8472",
   "metadata": {},
   "outputs": [],
   "source": [
    "# Example usage\n",
    "A = np.array([0.2, 0.4, 0.6, 0.8])  # Fuzzy set A\n",
    "B = np.array([0.3, 0.5, 0.7, 0.9])  # Fuzzy set B"
   ]
  },
  {
   "cell_type": "code",
   "execution_count": 9,
   "id": "2c8d7ace",
   "metadata": {},
   "outputs": [],
   "source": [
    "# Operations on fuzzy sets\n",
    "union_result = fuzzy_union(A, B)\n",
    "intersection_result = fuzzy_intersection(A, B)\n",
    "complement_A = fuzzy_complement(A)\n",
    "difference_result = fuzzy_difference(A, B)"
   ]
  },
  {
   "cell_type": "code",
   "execution_count": 10,
   "id": "57da5bc8",
   "metadata": {},
   "outputs": [
    {
     "name": "stdout",
     "output_type": "stream",
     "text": [
      "Union: [0.3 0.5 0.7 0.9]\n",
      "Intersection: [0.2 0.4 0.6 0.8]\n",
      "Complement of A: [0.8 0.6 0.4 0.2]\n",
      "Difference: [0.7 0.5 0.6 0.8]\n"
     ]
    }
   ],
   "source": [
    "print(\"Union:\", union_result)\n",
    "print(\"Intersection:\", intersection_result)\n",
    "print(\"Complement of A:\", complement_A)\n",
    "print(\"Difference:\", difference_result)"
   ]
  },
  {
   "cell_type": "code",
   "execution_count": 11,
   "id": "16e3bf4d",
   "metadata": {},
   "outputs": [],
   "source": [
    "# Fuzzy relations\n",
    "R = np.array([0.2, 0.5, 0.4])  # Fuzzy relation R\n",
    "S = np.array([0.6, 0.3, 0.7])  # Fuzzy relation S"
   ]
  },
  {
   "cell_type": "code",
   "execution_count": 12,
   "id": "32245bde",
   "metadata": {},
   "outputs": [],
   "source": [
    "# Cartesian product of fuzzy relations\n",
    "cartesian_result = cartesian_product(R, S)"
   ]
  },
  {
   "cell_type": "code",
   "execution_count": 13,
   "id": "f70023c4",
   "metadata": {},
   "outputs": [],
   "source": [
    "# Max-Min composition of fuzzy relations\n",
    "composition_result = max_min_composition(R, S)"
   ]
  },
  {
   "cell_type": "code",
   "execution_count": 15,
   "id": "f3a315f9",
   "metadata": {},
   "outputs": [
    {
     "name": "stdout",
     "output_type": "stream",
     "text": [
      "Cartesian product of R and S:\n",
      "[[0.12 0.06 0.14]\n",
      " [0.3  0.15 0.35]\n",
      " [0.24 0.12 0.28]]\n"
     ]
    }
   ],
   "source": [
    "print(\"Cartesian product of R and S:\")\n",
    "print(cartesian_result)"
   ]
  },
  {
   "cell_type": "code",
   "execution_count": 16,
   "id": "29259f88",
   "metadata": {},
   "outputs": [
    {
     "name": "stdout",
     "output_type": "stream",
     "text": [
      "Max-Min composition of R and S:\n",
      "[0.2 0.5 0.4]\n"
     ]
    }
   ],
   "source": [
    "print(\"Max-Min composition of R and S:\")\n",
    "print(composition_result)"
   ]
  },
  {
   "cell_type": "code",
   "execution_count": null,
   "id": "f19fe23e",
   "metadata": {},
   "outputs": [],
   "source": []
  }
 ],
 "metadata": {
  "kernelspec": {
   "display_name": "Python 3 (ipykernel)",
   "language": "python",
   "name": "python3"
  },
  "language_info": {
   "codemirror_mode": {
    "name": "ipython",
    "version": 3
   },
   "file_extension": ".py",
   "mimetype": "text/x-python",
   "name": "python",
   "nbconvert_exporter": "python",
   "pygments_lexer": "ipython3",
   "version": "3.8.5"
  }
 },
 "nbformat": 4,
 "nbformat_minor": 5
}
