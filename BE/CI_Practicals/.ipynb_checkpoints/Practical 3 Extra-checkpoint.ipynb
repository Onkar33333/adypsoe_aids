{
 "cells": [
  {
   "cell_type": "code",
   "execution_count": 19,
   "id": "63e2b1bc",
   "metadata": {},
   "outputs": [],
   "source": [
    "import tensorflow as tf\n",
    "import numpy as np\n",
    "import matplotlib.pyplot as plt"
   ]
  },
  {
   "cell_type": "code",
   "execution_count": 20,
   "id": "713a2c25",
   "metadata": {},
   "outputs": [],
   "source": [
    "# Load the pretrained VGG19 model\n",
    "vgg19 = tf.keras.applications.VGG19(include_top=False, weights='imagenet')\n",
    "\n",
    "# Define content and style layers\n",
    "content_layers = ['block5_conv2']\n",
    "style_layers = ['block1_conv1', 'block2_conv1', 'block3_conv1', 'block4_conv1', 'block5_conv1']"
   ]
  },
  {
   "cell_type": "code",
   "execution_count": 21,
   "id": "12241a80",
   "metadata": {},
   "outputs": [],
   "source": [
    "# Build the model\n",
    "def get_model(content_layers, style_layers):\n",
    "    vgg19.trainable = False\n",
    "    content_outputs = [vgg19.get_layer(layer).output for layer in content_layers]\n",
    "    style_outputs = [vgg19.get_layer(layer).output for layer in style_layers]\n",
    "    model_outputs = content_outputs + style_outputs\n",
    "    return tf.keras.models.Model(inputs=vgg19.input, outputs=model_outputs)"
   ]
  },
  {
   "cell_type": "code",
   "execution_count": 22,
   "id": "66b02d80",
   "metadata": {},
   "outputs": [],
   "source": [
    "# Define loss functions\n",
    "def content_loss(content, target):\n",
    "    return tf.reduce_mean(tf.square(content - target))"
   ]
  },
  {
   "cell_type": "code",
   "execution_count": 23,
   "id": "da62f475",
   "metadata": {},
   "outputs": [],
   "source": [
    "def gram_matrix(input_tensor):\n",
    "    channels = int(input_tensor.shape[-1])\n",
    "    a = tf.reshape(input_tensor, [-1, channels])\n",
    "    n = tf.shape(a)[0]\n",
    "    gram = tf.matmul(a, a, transpose_a=True)\n",
    "    return gram / tf.cast(n, tf.float32)"
   ]
  },
  {
   "cell_type": "code",
   "execution_count": 24,
   "id": "397cbd2b",
   "metadata": {},
   "outputs": [],
   "source": [
    "def style_loss(style, target):\n",
    "    style_gram = gram_matrix(style)\n",
    "    target_gram = gram_matrix(target)\n",
    "    return tf.reduce_mean(tf.square(style_gram - target_gram))"
   ]
  },
  {
   "cell_type": "code",
   "execution_count": 25,
   "id": "3035f706",
   "metadata": {},
   "outputs": [],
   "source": [
    "def total_variation_loss(image):\n",
    "    x_var = tf.reduce_mean(tf.square(image[:, :-1, :, :] - image[:, 1:, :, :]))\n",
    "    y_var = tf.reduce_mean(tf.square(image[:, :, :-1, :] - image[:, :, 1:, :]))\n",
    "    return x_var + y_var"
   ]
  },
  {
   "cell_type": "code",
   "execution_count": 26,
   "id": "e736bb1b",
   "metadata": {},
   "outputs": [],
   "source": [
    "# Define optimizer\n",
    "optimizer = tf.optimizers.Adam(learning_rate=0.02, beta_1=0.99, epsilon=1e-1)"
   ]
  },
  {
   "cell_type": "code",
   "execution_count": 27,
   "id": "9cc10aa2",
   "metadata": {},
   "outputs": [],
   "source": [
    "# Load and preprocess images\n",
    "def load_image(image_path):\n",
    "    image = tf.io.read_file(image_path)\n",
    "    image = tf.image.decode_image(image, channels=3)\n",
    "    image = tf.image.convert_image_dtype(image, tf.float32)\n",
    "    image = tf.image.resize(image, (224, 224))\n",
    "    return image[tf.newaxis, :]\n",
    "\n",
    "content_image = load_image('./images/content_image.jpg')\n",
    "style_image = load_image('./images/style_image.jpg')"
   ]
  },
  {
   "cell_type": "code",
   "execution_count": 28,
   "id": "5cd83ea3",
   "metadata": {},
   "outputs": [],
   "source": [
    "# Visualize images\n",
    "def show_image(image):\n",
    "    plt.imshow(image[0])\n",
    "    plt.axis('off')\n",
    "    plt.show()\n",
    "\n",
    "show_image(content_image)\n",
    "show_image(style_image)"
   ]
  },
  {
   "cell_type": "code",
   "execution_count": 29,
   "id": "c634f77b",
   "metadata": {},
   "outputs": [],
   "source": [
    "# Apply neural style transfer\n",
    "def style_transfer(content_image, style_image, num_iterations=1000):\n",
    "    model = get_model(content_layers, style_layers)\n",
    "    content_targets = model(content_image)['block5_conv2']\n",
    "    style_targets = [model(style_image)[layer] for layer in style_layers]\n",
    "    \n",
    "    generated_image = tf.Variable(content_image)\n",
    "    \n",
    "    for i in range(num_iterations):\n",
    "        with tf.GradientTape() as tape:\n",
    "            outputs = model(generated_image)\n",
    "            content_loss_value = content_loss(outputs['block5_conv2'], content_targets)\n",
    "            style_loss_value = 0\n",
    "            for style_layer, target_style in zip(style_layers, style_targets):\n",
    "                style_loss_value += style_loss(outputs[style_layer], target_style)\n",
    "            style_loss_value *= 0.01\n",
    "            total_variation_loss_value = total_variation_loss(generated_image)\n",
    "            total_loss = content_loss_value + style_loss_value + total_variation_loss_value\n",
    "            \n",
    "        gradients = tape.gradient(total_loss, generated_image)\n",
    "        optimizer.apply_gradients([(gradients, generated_image)])\n",
    "        \n",
    "        if i % 100 == 0:\n",
    "            print(f\"Iteration {i+1}: Total loss: {total_loss.numpy()}\")\n",
    "    \n",
    "    return generated_image"
   ]
  },
  {
   "cell_type": "code",
   "execution_count": 30,
   "id": "fe99082d",
   "metadata": {},
   "outputs": [],
   "source": [
    "# Generate artwork\n",
    "generated_image = style_transfer(content_image, style_image)"
   ]
  },
  {
   "cell_type": "code",
   "execution_count": 31,
   "id": "2c0d7985",
   "metadata": {},
   "outputs": [],
   "source": [
    "# Visualize generated artwork\n",
    "show_image(generated_image)"
   ]
  },
  {
   "cell_type": "code",
   "execution_count": null,
   "id": "a6f28ab9",
   "metadata": {},
   "outputs": [],
   "source": []
  }
 ],
 "metadata": {
  "kernelspec": {
   "display_name": "Python 3 (ipykernel)",
   "language": "python",
   "name": "python3"
  },
  "language_info": {
   "codemirror_mode": {
    "name": "ipython",
    "version": 3
   },
   "file_extension": ".py",
   "mimetype": "text/x-python",
   "name": "python",
   "nbconvert_exporter": "python",
   "pygments_lexer": "ipython3",
   "version": "3.8.5"
  }
 },
 "nbformat": 4,
 "nbformat_minor": 5
}
