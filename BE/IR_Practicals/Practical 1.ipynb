{
 "cells": [
  {
   "cell_type": "code",
   "execution_count": 6,
   "id": "c875a719",
   "metadata": {},
   "outputs": [],
   "source": [
    "import nltk"
   ]
  },
  {
   "cell_type": "code",
   "execution_count": 7,
   "id": "31ded938",
   "metadata": {},
   "outputs": [
    {
     "name": "stdout",
     "output_type": "stream",
     "text": [
      "showing info https://raw.githubusercontent.com/nltk/nltk_data/gh-pages/index.xml\n"
     ]
    },
    {
     "data": {
      "text/plain": [
       "True"
      ]
     },
     "execution_count": 7,
     "metadata": {},
     "output_type": "execute_result"
    }
   ],
   "source": [
    "nltk.download()"
   ]
  },
  {
   "cell_type": "code",
   "execution_count": 4,
   "id": "5c4b25b6",
   "metadata": {},
   "outputs": [],
   "source": [
    "from nltk.corpus import brown"
   ]
  },
  {
   "cell_type": "code",
   "execution_count": 8,
   "id": "89eec549",
   "metadata": {},
   "outputs": [
    {
     "data": {
      "text/plain": [
       "['The', 'Fulton', 'County', 'Grand', 'Jury', 'said', ...]"
      ]
     },
     "execution_count": 8,
     "metadata": {},
     "output_type": "execute_result"
    }
   ],
   "source": [
    "# Testing whether nltk_data is installed properly or not\n",
    "\n",
    "brown.words()"
   ]
  },
  {
   "cell_type": "code",
   "execution_count": 13,
   "id": "e672eae8",
   "metadata": {},
   "outputs": [
    {
     "data": {
      "text/plain": [
       "\"\\nNotes :\\nnltk.download('brown') - if only want brown module\\n\\nWhat is brown corpus ?\\n- The Brown Corpus is a well-known text corpus in the field of natural language processing (NLP) and linguistics.\\n- It was one of the earliest and most widely used corpora for linguistic research and NLP applications. \\n- The Brown Corpus contains a collection of text from a wide range of sources, making it representative of American English written and spoken language.\\n\\nFeatures :\\n- Text Categories\\n- Size - 1M words\\n- POS Tagging\\n- Linguistic Research - word frequencies, language variation, text classification\\n- Text Analysis - language modeling, information retrieval, and text classification\\n\""
      ]
     },
     "execution_count": 13,
     "metadata": {},
     "output_type": "execute_result"
    }
   ],
   "source": [
    "\"\"\"\n",
    "Notes :\n",
    "nltk.download('brown') - if only want brown module\n",
    "\n",
    "What is brown corpus ?\n",
    "- The Brown Corpus is a well-known text corpus in the field of natural language processing (NLP) and linguistics.\n",
    "- It was one of the earliest and most widely used corpora for linguistic research and NLP applications. \n",
    "- The Brown Corpus contains a collection of text from a wide range of sources, making it representative of American English written and spoken language.\n",
    "\n",
    "Features :\n",
    "- Text Categories\n",
    "- Size - 1M words\n",
    "- POS Tagging\n",
    "- Linguistic Research - word frequencies, language variation, text classification\n",
    "- Text Analysis - language modeling, information retrieval, and text classification\n",
    "\"\"\""
   ]
  },
  {
   "cell_type": "code",
   "execution_count": null,
   "id": "375a832e",
   "metadata": {},
   "outputs": [],
   "source": []
  }
 ],
 "metadata": {
  "kernelspec": {
   "display_name": "Python 3 (ipykernel)",
   "language": "python",
   "name": "python3"
  },
  "language_info": {
   "codemirror_mode": {
    "name": "ipython",
    "version": 3
   },
   "file_extension": ".py",
   "mimetype": "text/x-python",
   "name": "python",
   "nbconvert_exporter": "python",
   "pygments_lexer": "ipython3",
   "version": "3.8.5"
  }
 },
 "nbformat": 4,
 "nbformat_minor": 5
}
