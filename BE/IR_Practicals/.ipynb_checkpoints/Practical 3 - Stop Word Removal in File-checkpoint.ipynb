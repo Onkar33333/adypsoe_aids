{
 "cells": [
  {
   "cell_type": "code",
   "execution_count": 16,
   "id": "aacd3888",
   "metadata": {},
   "outputs": [],
   "source": [
    "import io\n",
    "from nltk.corpus import stopwords\n",
    "from nltk.tokenize import word_tokenize"
   ]
  },
  {
   "cell_type": "code",
   "execution_count": 17,
   "id": "a13be2a7",
   "metadata": {},
   "outputs": [],
   "source": [
    "stop_words = set(stopwords.words('english'))"
   ]
  },
  {
   "cell_type": "code",
   "execution_count": 18,
   "id": "af46b3df",
   "metadata": {},
   "outputs": [
    {
     "name": "stdout",
     "output_type": "stream",
     "text": [
      "Words : ['Integrating', 'non-traditional', 'assessment', 'methods', 'like', 'project-based', 'learning', 'and', 'competency-based', 'evaluation', 'could', 'provide', 'a', 'more', 'comprehensive', 'picture', 'of', 'student', 'performance.', 'In', 'conclusion,', 'student', 'performance', 'and', 'monitoring', 'systems', 'offer', 'immense', 'potential', 'for', 'enhancing', 'educational', 'outcomes', 'by', 'leveraging', 'data,', 'technology,', 'and', 'collaboration.']\n"
     ]
    }
   ],
   "source": [
    "file1 = open(\"./data/sample.txt\")\n",
    "\n",
    "line = file1.read()\n",
    "\n",
    "words = line.split()\n",
    "\n",
    "print(f\"Before Removing Stop Words : \\n{words}\")"
   ]
  },
  {
   "cell_type": "code",
   "execution_count": 19,
   "id": "4d7946b4",
   "metadata": {},
   "outputs": [],
   "source": [
    "for r in words:\n",
    "    if not r in stop_words:\n",
    "        appendFile = open('./data/output_filteredtext.txt','a')\n",
    "        appendFile.write(\" \"+r)\n",
    "        appendFile.close()"
   ]
  },
  {
   "cell_type": "code",
   "execution_count": null,
   "id": "7b139e1e",
   "metadata": {},
   "outputs": [],
   "source": []
  }
 ],
 "metadata": {
  "kernelspec": {
   "display_name": "Python 3 (ipykernel)",
   "language": "python",
   "name": "python3"
  },
  "language_info": {
   "codemirror_mode": {
    "name": "ipython",
    "version": 3
   },
   "file_extension": ".py",
   "mimetype": "text/x-python",
   "name": "python",
   "nbconvert_exporter": "python",
   "pygments_lexer": "ipython3",
   "version": "3.8.5"
  }
 },
 "nbformat": 4,
 "nbformat_minor": 5
}
