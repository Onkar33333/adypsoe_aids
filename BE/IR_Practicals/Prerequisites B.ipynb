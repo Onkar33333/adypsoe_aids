{
 "cells": [
  {
   "cell_type": "code",
   "execution_count": 1,
   "id": "5ee876a7",
   "metadata": {},
   "outputs": [],
   "source": [
    "import numpy as np"
   ]
  },
  {
   "cell_type": "code",
   "execution_count": 2,
   "id": "2e380c85",
   "metadata": {},
   "outputs": [
    {
     "name": "stdout",
     "output_type": "stream",
     "text": [
      "1D Array : [10 20 30 40 50]\n"
     ]
    }
   ],
   "source": [
    "# Creating a 1D Array \n",
    "arr = np.array([10, 20, 30, 40, 50])\n",
    "print(f\"1D Array : {arr}\")"
   ]
  },
  {
   "cell_type": "code",
   "execution_count": 3,
   "id": "ecae7e45",
   "metadata": {},
   "outputs": [
    {
     "name": "stdout",
     "output_type": "stream",
     "text": [
      "2D Array : [[11 12 13 14 15]\n",
      " [16 17 18 19 20]]\n"
     ]
    }
   ],
   "source": [
    "# Creating a 2D Array\n",
    "arr2 = np.array([[11,12,13,14,15],[16,17,18,19,20]])\n",
    "print(f\"2D Array : {arr2}\")"
   ]
  },
  {
   "cell_type": "code",
   "execution_count": 4,
   "id": "dc9db65e",
   "metadata": {},
   "outputs": [
    {
     "name": "stdout",
     "output_type": "stream",
     "text": [
      "Array from Tuple : [1 2 3 4 5]\n"
     ]
    }
   ],
   "source": [
    "# Creating a array from tuple\n",
    "arr3 = np.array((1,2,3,4,5))\n",
    "print(f\"Array from Tuple : {arr3}\")"
   ]
  },
  {
   "cell_type": "code",
   "execution_count": null,
   "id": "fe8342c9",
   "metadata": {},
   "outputs": [],
   "source": []
  },
  {
   "cell_type": "code",
   "execution_count": 6,
   "id": "49959b7a",
   "metadata": {},
   "outputs": [
    {
     "name": "stderr",
     "output_type": "stream",
     "text": [
      "[nltk_data] Downloading package words to\n",
      "[nltk_data]     C:\\Users\\UNIQUE\\AppData\\Roaming\\nltk_data...\n",
      "[nltk_data]   Unzipping corpora\\words.zip.\n",
      "[nltk_data] Downloading package punkt to\n",
      "[nltk_data]     C:\\Users\\UNIQUE\\AppData\\Roaming\\nltk_data...\n",
      "[nltk_data]   Package punkt is already up-to-date!\n",
      "[nltk_data] Downloading package maxent_ne_chunker to\n",
      "[nltk_data]     C:\\Users\\UNIQUE\\AppData\\Roaming\\nltk_data...\n",
      "[nltk_data]   Unzipping chunkers\\maxent_ne_chunker.zip.\n",
      "[nltk_data] Downloading package averaged_perceptron_tagger to\n",
      "[nltk_data]     C:\\Users\\UNIQUE\\AppData\\Roaming\\nltk_data...\n",
      "[nltk_data]   Package averaged_perceptron_tagger is already up-to-\n",
      "[nltk_data]       date!\n",
      "[nltk_data] Downloading package state_union to\n",
      "[nltk_data]     C:\\Users\\UNIQUE\\AppData\\Roaming\\nltk_data...\n",
      "[nltk_data]   Unzipping corpora\\state_union.zip.\n"
     ]
    }
   ],
   "source": [
    "\"\"\" Named Entity Recognition \"\"\"\n",
    "# import modules and download packages \n",
    "import nltk\n",
    "nltk.download('words')  \n",
    "nltk.download('punkt') \n",
    "nltk.download('maxent_ne_chunker') \n",
    "nltk.download('averaged_perceptron_tagger') \n",
    "nltk.download('state_union')\n",
    "from nltk.corpus import state_union\n",
    "from nltk.tokenize import PunktSentenceTokenizer"
   ]
  },
  {
   "cell_type": "code",
   "execution_count": 7,
   "id": "1a170952",
   "metadata": {},
   "outputs": [],
   "source": [
    "# process the text and print Named entities # tokenization\n",
    "train_text = state_union.raw()"
   ]
  },
  {
   "cell_type": "code",
   "execution_count": 8,
   "id": "25ea1d29",
   "metadata": {},
   "outputs": [],
   "source": [
    "sample_text = state_union.raw(\"2006-GWBush.txt\") \n",
    "custom_sent_tokenizer = PunktSentenceTokenizer(train_text) \n",
    "tokenized = custom_sent_tokenizer.tokenize(sample_text)"
   ]
  },
  {
   "cell_type": "code",
   "execution_count": 10,
   "id": "f6e3942e",
   "metadata": {},
   "outputs": [],
   "source": [
    "def get_named_entity(): \n",
    "    try:\n",
    "        for i in tokenized:\n",
    "            words = nltk.word_tokenize(i) \n",
    "            tagged = nltk.pos_tag(words)\n",
    "            namedEnt = nltk.ne_chunk(tagged, binary=False) \n",
    "            namedEnt.draw()\n",
    "    except:\n",
    "        pass "
   ]
  },
  {
   "cell_type": "code",
   "execution_count": 12,
   "id": "9ac89fc2",
   "metadata": {},
   "outputs": [],
   "source": [
    "get_named_entity()"
   ]
  },
  {
   "cell_type": "code",
   "execution_count": null,
   "id": "285f09f2",
   "metadata": {},
   "outputs": [],
   "source": []
  }
 ],
 "metadata": {
  "kernelspec": {
   "display_name": "Python 3 (ipykernel)",
   "language": "python",
   "name": "python3"
  },
  "language_info": {
   "codemirror_mode": {
    "name": "ipython",
    "version": 3
   },
   "file_extension": ".py",
   "mimetype": "text/x-python",
   "name": "python",
   "nbconvert_exporter": "python",
   "pygments_lexer": "ipython3",
   "version": "3.8.5"
  }
 },
 "nbformat": 4,
 "nbformat_minor": 5
}
